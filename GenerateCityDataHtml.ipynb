{
 "cells": [
  {
   "cell_type": "code",
   "execution_count": 8,
   "metadata": {},
   "outputs": [],
   "source": [
    "import datetime as dt\n",
    "import pandas as pd\n",
    "import re"
   ]
  },
  {
   "cell_type": "code",
   "execution_count": 9,
   "metadata": {},
   "outputs": [
    {
     "data": {
      "text/plain": [
       "City_ID         int64\n",
       "City           object\n",
       "Cloudiness     object\n",
       "Country        object\n",
       "Date           object\n",
       "Humidity       object\n",
       "Lat           float64\n",
       "Lng           float64\n",
       "Max Temp      float64\n",
       "Wind Speed    float64\n",
       "dtype: object"
      ]
     },
     "execution_count": 9,
     "metadata": {},
     "output_type": "execute_result"
    }
   ],
   "source": [
    "df = pd.read_csv(\"WebVisualizations/Resources/cities.csv\")\n",
    "#df.Date.strftime(\"%m-%d-%Y\")\n",
    "#df.Date.dt.strftime(\"%m-%d-%Y\")\n",
    "#df[\"Date\"].to_datetime()\n",
    "df.Date = pd.to_datetime(df.Date, unit='s').dt.strftime(\"%Y-%m-%d\")\n",
    "df.City = df.City.str.title()\n",
    "df.Cloudiness = df.Cloudiness.apply(str) + '%'\n",
    "df.Humidity = df.Humidity.apply(str) + '%'\n",
    "df.dtypes\n"
   ]
  },
  {
   "cell_type": "code",
   "execution_count": 20,
   "metadata": {},
   "outputs": [],
   "source": [
    "s = df.to_html(\n",
    "    columns=['City_ID','City','Country','Lat','Lng','Date','Cloudiness','Humidity','Max Temp','Wind Speed'], \n",
    "    index=False,\n",
    "    justify='center',\n",
    "    float_format='%.1f',\n",
    "    border=0,\n",
    "    classes='table')\n",
    "th = re.compile('</th>\\n[ ]+<th>')\n",
    "s = th.sub('</th><th>',s)\n",
    "td = re.compile('</td>\\n[ ]+<td>')\n",
    "s = td.sub('</td><td>',s)"
   ]
  },
  {
   "cell_type": "code",
   "execution_count": 21,
   "metadata": {},
   "outputs": [],
   "source": [
    "text_file = open(\"WebVisualizations/Resources/city_data_table.html\", \"w\")\n",
    "n = text_file.write(s)\n",
    "text_file.close()"
   ]
  },
  {
   "cell_type": "code",
   "execution_count": null,
   "metadata": {},
   "outputs": [],
   "source": []
  }
 ],
 "metadata": {
  "kernelspec": {
   "display_name": "Python 3",
   "language": "python",
   "name": "python3"
  },
  "language_info": {
   "codemirror_mode": {
    "name": "ipython",
    "version": 3
   },
   "file_extension": ".py",
   "mimetype": "text/x-python",
   "name": "python",
   "nbconvert_exporter": "python",
   "pygments_lexer": "ipython3",
   "version": "3.7.6"
  }
 },
 "nbformat": 4,
 "nbformat_minor": 4
}
